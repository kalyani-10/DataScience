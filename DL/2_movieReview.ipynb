{
 "cells": [
  {
   "cell_type": "code",
   "execution_count": null,
   "metadata": {
    "colab": {
     "base_uri": "https://localhost:8080/"
    },
    "id": "6-UnaY3rlRT1",
    "outputId": "7bb442dc-b176-457c-c3b3-697f24bbf128"
   },
   "outputs": [
    {
     "name": "stdout",
     "output_type": "stream",
     "text": [
      "Mounted at /content/drive\n"
     ]
    }
   ],
   "source": [
    "import numpy as np\n",
    "import pandas as pd\n",
    "from sklearn.model_selection import train_test_split\n",
    "from tensorflow.keras.preprocessing.text import Tokenizer\n",
    "from tensorflow.keras.preprocessing.sequence import pad_sequences\n",
    "from tensorflow.keras.models import Sequential\n",
    "from tensorflow.keras.layers import Dense, Embedding, Flatten\n",
    "\n",
    "# # Load the IMDb dataset using pd.read_csv\n",
    "# data = pd.read_csv('IMDB Dataset.csv')\n",
    "\n",
    "\n",
    "from google.colab import drive\n",
    "drive.mount('/content/drive')\n",
    "\n",
    "\n",
    "data= pd.read_csv('/content/drive/MyDrive/IMDB Dataset.csv')\n"
   ]
  },
  {
   "cell_type": "code",
   "execution_count": null,
   "metadata": {
    "id": "ntJhWoAPxs40"
   },
   "outputs": [],
   "source": [
    "# Split the data into features (reviews) and labels (sentiments)\n",
    "reviews = data['review']\n",
    "sentiments = data['sentiment']\n",
    "\n",
    "\n"
   ]
  },
  {
   "cell_type": "code",
   "execution_count": null,
   "metadata": {
    "id": "dCR3lqj-xVh_"
   },
   "outputs": [],
   "source": [
    "# Convert the reviews to sequences of integers\n",
    "tokenizer = Tokenizer(num_words=10000)\n",
    "tokenizer.fit_on_texts(reviews)\n",
    "sequences = tokenizer.texts_to_sequences(reviews)\n",
    "\n"
   ]
  },
  {
   "cell_type": "code",
   "execution_count": null,
   "metadata": {
    "id": "U2dbH__xxUFU"
   },
   "outputs": [],
   "source": [
    "# Pad the sequences to a fixed length\n",
    "max_length = 500\n",
    "padded_sequences = pad_sequences(sequences, maxlen=max_length)\n",
    "\n",
    "# Convert sentiments to numerical labels\n",
    "labels = np.array(sentiments == 'positive', dtype=int)\n",
    "\n",
    "# Split the data into training and testing sets\n",
    "X_train, X_test, y_train, y_test = train_test_split(padded_sequences, labels, test_size=0.2, random_state=1)\n",
    "\n",
    "\n"
   ]
  },
  {
   "cell_type": "code",
   "execution_count": null,
   "metadata": {
    "id": "bbReFCEVxSYL"
   },
   "outputs": [],
   "source": []
  },
  {
   "cell_type": "code",
   "execution_count": null,
   "metadata": {
    "id": "GjdPDr_xxQU2"
   },
   "outputs": [],
   "source": [
    "# Create the model\n",
    "model = Sequential()\n",
    "model.add(Embedding(10000, 32, input_length=max_length))\n",
    "model.add(Flatten())\n",
    "model.add(Dense(16, activation='relu'))\n",
    "model.add(Dense(1, activation='sigmoid'))\n"
   ]
  },
  {
   "cell_type": "code",
   "execution_count": null,
   "metadata": {
    "id": "7FF2TjqXxO3I"
   },
   "outputs": [],
   "source": [
    "# Compile the model\n",
    "model.compile(optimizer='adam', loss='binary_crossentropy', metrics=['accuracy'])\n",
    "\n"
   ]
  },
  {
   "cell_type": "code",
   "execution_count": null,
   "metadata": {
    "colab": {
     "base_uri": "https://localhost:8080/"
    },
    "id": "iGyUP55gxMtg",
    "outputId": "7bcabbe1-3540-47f6-8ac1-7d092a9e0e46"
   },
   "outputs": [
    {
     "name": "stdout",
     "output_type": "stream",
     "text": [
      "Epoch 1/5\n",
      "313/313 [==============================] - 10s 29ms/step - loss: 0.4340 - accuracy: 0.7668 - val_loss: 0.2561 - val_accuracy: 0.8946\n",
      "Epoch 2/5\n",
      "313/313 [==============================] - 10s 32ms/step - loss: 0.1716 - accuracy: 0.9362 - val_loss: 0.2626 - val_accuracy: 0.8947\n",
      "Epoch 3/5\n",
      "313/313 [==============================] - 11s 34ms/step - loss: 0.0691 - accuracy: 0.9812 - val_loss: 0.3082 - val_accuracy: 0.8893\n",
      "Epoch 4/5\n",
      "313/313 [==============================] - 9s 29ms/step - loss: 0.0193 - accuracy: 0.9969 - val_loss: 0.3567 - val_accuracy: 0.8875\n",
      "Epoch 5/5\n",
      "313/313 [==============================] - 10s 32ms/step - loss: 0.0056 - accuracy: 0.9995 - val_loss: 0.4024 - val_accuracy: 0.8881\n",
      "313/313 [==============================] - 1s 3ms/step\n"
     ]
    }
   ],
   "source": [
    "# Train the model\n",
    "model.fit(X_train, y_train, epochs=5, batch_size=128, validation_data=(X_test, y_test))\n",
    "predictions = model.predict(X_test)\n"
   ]
  },
  {
   "cell_type": "code",
   "execution_count": null,
   "metadata": {
    "id": "sEaY435LxLNv"
   },
   "outputs": [],
   "source": [
    "\n",
    "# Convert the predictions to sentiment labels\n",
    "sentiment_labels = ['Negative', 'Positive']\n",
    "predicted_labels = [sentiment_labels[int(np.round(pred))] for pred in predictions]\n"
   ]
  },
  {
   "cell_type": "code",
   "execution_count": null,
   "metadata": {
    "id": "oI0qp4d9xIZz"
   },
   "outputs": [],
   "source": [
    "# Print the predicted sentiment labels\n",
    "# for i, review in enumerate(X_test):\n",
    "    # print(f\"Review: {review}\")\n",
    "    # print(f\"Predicted Sentiment: {predicted_labels[i]}\")\n",
    "    # print()\n"
   ]
  },
  {
   "cell_type": "code",
   "execution_count": null,
   "metadata": {
    "colab": {
     "base_uri": "https://localhost:8080/"
    },
    "id": "KvjsjgthxGpv",
    "outputId": "8c0b0e81-5242-4be0-c206-9a48ef1c3fb2"
   },
   "outputs": [
    {
     "name": "stdout",
     "output_type": "stream",
     "text": [
      "313/313 [==============================] - 1s 3ms/step - loss: 0.4024 - accuracy: 0.8881\n",
      "Test Loss: 0.40236568450927734\n",
      "Test Accuracy: 0.8881000280380249\n"
     ]
    }
   ],
   "source": [
    "# Evaluate the model\n",
    "loss, accuracy = model.evaluate(X_test, y_test)\n",
    "print(\"Test Loss:\", loss)\n",
    "print(\"Test Accuracy:\", accuracy)"
   ]
  },
  {
   "cell_type": "code",
   "execution_count": null,
   "metadata": {
    "id": "4D5rLGsQnpRb"
   },
   "outputs": [],
   "source": []
  }
 ],
 "metadata": {
  "colab": {
   "provenance": []
  },
  "kernelspec": {
   "display_name": "Python 3 (ipykernel)",
   "language": "python",
   "name": "python3"
  },
  "language_info": {
   "codemirror_mode": {
    "name": "ipython",
    "version": 3
   },
   "file_extension": ".py",
   "mimetype": "text/x-python",
   "name": "python",
   "nbconvert_exporter": "python",
   "pygments_lexer": "ipython3",
   "version": "3.9.7"
  }
 },
 "nbformat": 4,
 "nbformat_minor": 1
}
